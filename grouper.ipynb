{
 "cells": [
  {
   "cell_type": "code",
   "execution_count": 1,
   "metadata": {},
   "outputs": [],
   "source": [
    "import pandas\n",
    "from sklearn.preprocessing import StandardScaler\n",
    "from sklearn.decomposition import PCA\n",
    "from sklearn.cluster import KMeans\n",
    "import matplotlib.pyplot as plt\n",
    "from functions import searchartist, searchalbums, getalbum, searchplaylist\n",
    "from functions import getplaylist, getanalysis"
   ]
  },
  {
   "cell_type": "code",
   "execution_count": 3,
   "metadata": {},
   "outputs": [
    {
     "name": "stdout",
     "output_type": "stream",
     "text": [
      "1EFr8cW4waL1ASHS1RdmhF Disease\n",
      "6NNxeJZ1h3J2wIzolVNlx1 Aggressive (Deluxe Edition)\n",
      "5xHiuJS9obB2cddOAtrmfk Live from Download Festival Paris 2016\n",
      "6M7tifsx7fUtUkmAfY4xKf Aggressive (Album Commentary)\n",
      "5nQE80zQR1NqKDBo4oE4EJ Aggressive\n",
      "1mIrsS2pstpEx28TelJuVW Disgusting (Deluxe Edition)\n",
      "7dh7xmoU6FjAIQgrBbltXV Disgusting\n"
     ]
    }
   ],
   "source": [
    "searchalbums('beartooth')"
   ]
  },
  {
   "cell_type": "code",
   "execution_count": 4,
   "metadata": {},
   "outputs": [
    {
     "name": "stdout",
     "output_type": "stream",
     "text": [
      "07aGx2IErugtk4d7clL03j Love and Loathing\n",
      "73yzCXeZAtNFC7YoIroAPD Better Weather\n"
     ]
    }
   ],
   "source": [
    "searchalbums('with confidence')"
   ]
  },
  {
   "cell_type": "code",
   "execution_count": 5,
   "metadata": {},
   "outputs": [
    {
     "name": "stdout",
     "output_type": "stream",
     "text": [
      "1Qb73C8hC76e3R8udyit5I Living Proof\n",
      "1lLm5kIRG1acxB4DlEZTL8 Around the World and Back (Deluxe)\n",
      "6e7qQNNJSaez58YoKRiBCn Around the World and Back\n",
      "1Sk51s1cQnQQJ3e98Tr3xr The Acoustic Things\n",
      "2Hbmdm8IXpkMRcXgY0vYGq The Finer Things\n",
      "0jDeu4lwdrS30SnY9qEyGa Apparently, I'm Nothing\n"
     ]
    }
   ],
   "source": [
    "searchalbums('state champs')"
   ]
  },
  {
   "cell_type": "code",
   "execution_count": 6,
   "metadata": {},
   "outputs": [
    {
     "name": "stdout",
     "output_type": "stream",
     "text": [
      "0DRUOQBsax8QLUVctbEIAT You Are OK\n",
      "7px4cLhZtFMRoD5cqxYDyT Less Noise: A Collection of Songs by a Band Called the Maine\n",
      "2jStuYeaRty1cwxjoxfo9K Lovely Little Lonely\n",
      "2B2vHCKcHod82FCaFtkm1u American Candy\n",
      "7L67AfD32yE7BIanZOz8L9 Forever Halloween\n",
      "4njXV11WuwNbZK1Cv03fEW Pioneer\n",
      "4EfQgg5vSDNQrdITxD90Fv Black & White\n",
      "2b5r5anw9pNadjzk5vZ7oC Black & White (Deluxe)\n",
      "0bxAg2688N46MOhGVHxRFJ Can't Stop Won't Stop\n"
     ]
    }
   ],
   "source": [
    "searchalbums('the maine')"
   ]
  },
  {
   "cell_type": "code",
   "execution_count": 7,
   "metadata": {},
   "outputs": [
    {
     "name": "stdout",
     "output_type": "stream",
     "text": [
      "55sUM2N9C0vUHeqc1C6xEZ Sunnyland\n",
      "5bCeURUB1Lw11ecp3qm5rp A Lesson In Romantics (Anniversary Edition / Audio Commentary)\n",
      "1Ewi8Uxjw5Etf7y8zaww9K A Lesson In Romantics (Anniversary Edition)\n",
      "2jZ7KCJvqvq3lUIAiil0Vd Black Lines\n",
      "4tHojxa0RfgbktTv8fzqDl Monsters In The Closet (Deluxe Edition)\n",
      "0z4nD6xjZlQEq4BDF8GRFu Monsters In The Closet\n",
      "5y34kPaIpcN3LNU3BZGEsn Mayday Parade\n",
      "5ioUIvpedCZXXXPE1zvsoV Mayday Parade (Deluxe Edition)\n",
      "0JK09CS7SdFERmAiBNjawF Anywhere But Here\n",
      "2DLbHCbhgKMdyDkh6dxK5u Anywhere But Here (Deluxe)\n",
      "0UtenXp3qVbWedKEaNRAp9 A Lesson In Romantics\n"
     ]
    }
   ],
   "source": [
    "searchalbums('mayday parade')"
   ]
  },
  {
   "cell_type": "code",
   "execution_count": 8,
   "metadata": {},
   "outputs": [
    {
     "name": "stdout",
     "output_type": "stream",
     "text": [
      "4xtHySb6XaNo8SLRgfpUSu Skinny Dipping\n"
     ]
    }
   ],
   "source": [
    "searchalbums('stand atlantic')"
   ]
  },
  {
   "cell_type": "code",
   "execution_count": 9,
   "metadata": {},
   "outputs": [
    {
     "name": "stdout",
     "output_type": "stream",
     "text": [
      "37i9dQZF1DX1ewVhAJ17m4 Pop Punk's Not Dead by spotify\n",
      "1Hwes6tRmj8zJZPv3fmjS2 Pop Punk Is Not Dead by 1287757653\n",
      "2wFkEjYBUsneGxEg91dtOb Pop Punk / Emo by ot5fgpz4jjdn2hl8jhu4lcu7s\n",
      "7061Yq6SaRSEfuxmsAiCFM Punk Rock´s Not Dead by 113216992\n",
      "2k81Ghmvq2Ekn6VRCmmHUN POP PUNK'S NOT DEAD by shootingstargirl\n"
     ]
    }
   ],
   "source": [
    "searchplaylist('pop punk\\'s not dead')"
   ]
  },
  {
   "cell_type": "code",
   "execution_count": 10,
   "metadata": {},
   "outputs": [
    {
     "name": "stdout",
     "output_type": "stream",
     "text": [
      "37i9dQZF1DXcBkxDaAQX0a Punk Unplugged by spotify\n",
      "4BleOLT6rpE5f5H39w6cmp punk unplugged/acoustic by 12186572126\n",
      "10eb8qk3sPXADki7Wuw9Tb 2000s Emo, Pop Punk (Unplugged) by 12144453799\n",
      "6o2fOHMmoOMgPKr81iK5VS Pop punk unplugged  by 22skonlmkik4x5nqop276b3ka\n",
      "3fZ028IGCl0oIzgTMXSqfs a sad night with rock by amudson\n"
     ]
    }
   ],
   "source": [
    "searchplaylist('punk unplugged')"
   ]
  },
  {
   "cell_type": "code",
   "execution_count": 11,
   "metadata": {},
   "outputs": [
    {
     "name": "stdout",
     "output_type": "stream",
     "text": [
      "37i9dQZF1DX1lVhptIYRda Hot Country by spotify\n",
      "37i9dQZF1DWUgBy0IJPlHq Back Porch by spotify\n",
      "37i9dQZF1DWVpjAJGB70vU 90's Country by spotify\n",
      "37i9dQZF1DWYnwbYQ5HnZU Country Gold by spotify\n",
      "37i9dQZF1DWXepGEFFmQXJ Fresh Country by spotify\n"
     ]
    }
   ],
   "source": [
    "searchplaylist('country')"
   ]
  },
  {
   "cell_type": "code",
   "execution_count": null,
   "metadata": {},
   "outputs": [],
   "source": []
  },
  {
   "cell_type": "code",
   "execution_count": null,
   "metadata": {},
   "outputs": [],
   "source": [
    "# getalbum('4xtHySb6XaNo8SLRgfpUSu', 'Skinny Dipping', 'Stand Atlantic')\n",
    "# getanalysis('Skinny Dipping')\n",
    "# getplaylist('spotify', '37i9dQZF1DXcBkxDaAQX0a', 'Punk Unplugged')\n",
    "# getanalysis('Punk Unplugged')"
   ]
  },
  {
   "cell_type": "code",
   "execution_count": null,
   "metadata": {},
   "outputs": [],
   "source": [
    "disgusting = pandas.read_csv('Disgusting_trackids.csv')\n",
    "aggressive = pandas.read_csv('Aggressive_trackids.csv')\n",
    "disease = pandas.read_csv('Disease_trackids.csv')\n",
    "better = pandas.read_csv('Better Weather_trackids.csv')\n",
    "love = pandas.read_csv('Love and Loathing_trackids.csv')\n",
    "living = pandas.read_csv('Living Proof_trackids.csv')\n",
    "lonely = pandas.read_csv('Lovely Little Lonely_trackids.csv')\n",
    "sunnyland = pandas.read_csv('Sunnyland_trackids.csv')\n",
    "skinny = pandas.read_csv('Skinny Dipping_trackids.csv')\n",
    "albums = [disgusting, aggressive, disease, better, love]\n",
    "albumnames = ['Disgusting', 'Aggressive', 'Disease', 'Better Weather', 'Love and Loathing']\n",
    "colors = ['r', 'g', 'b', 'm', 'c']\n",
    "markers = ['o', 'o', 'o', 'o', 'o']\n",
    "albums = [disease, better]\n",
    "colors = ['r', 'g']\n",
    "markers = ['o', 'o']\n",
    "albums = [living, lonely, sunnyland, skinny]\n",
    "albumnames = ['Living Proof', 'Lovely Little Lonely', 'Sunnyland', 'Skinny Dipping']\n",
    "colors = ['r', 'g', 'b', 'm']\n",
    "markers = ['o', 'o', 'o', 'o']\n",
    "\n",
    "poppunk = pandas.read_csv('Pop Punk\\'s Not Dead_trackids.csv')\n",
    "country = pandas.read_csv('Hot Country_trackids.csv')\n",
    "unplugged = pandas.read_csv('Punk Unplugged_trackids.csv')\n",
    "albums = [poppunk, unplugged]\n",
    "albumnames = ['Pop Punk\\'s Not Dead', 'Punk Unplugged']\n",
    "colors = ['r', 'g']\n",
    "markers = ['o', 'o']\n",
    "\n",
    "albums = [poppunk, country]\n",
    "albumnames = ['Pop Punk\\'s Not Dead', 'Hot Country']\n",
    "colors = ['r', 'g']\n",
    "markers = ['o', 'o']\n",
    "\n",
    "albums = [unplugged, country]\n",
    "albumnames = ['Punk Unplugged', 'Hot Country']\n",
    "colors = ['r', 'g']\n",
    "markers = ['o', 'o']"
   ]
  },
  {
   "cell_type": "code",
   "execution_count": null,
   "metadata": {},
   "outputs": [],
   "source": [
    "data = pandas.DataFrame()\n",
    "for i in albums:\n",
    "    for j, k in enumerate(i['trackid']):\n",
    "        trackdata = pandas.read_csv('analysis/' + k + '.csv')\n",
    "        trackdata['track'] = i['track'][j]\n",
    "        trackdata['album'] = i['album'][j]\n",
    "        trackdata['artist'] = i['artist'][j]\n",
    "        data = data.append(trackdata, ignore_index=True)"
   ]
  },
  {
   "cell_type": "code",
   "execution_count": null,
   "metadata": {},
   "outputs": [],
   "source": [
    "x = data.iloc[:, 0:12].values"
   ]
  },
  {
   "cell_type": "code",
   "execution_count": null,
   "metadata": {},
   "outputs": [],
   "source": [
    "x = StandardScaler().fit_transform(x)"
   ]
  },
  {
   "cell_type": "code",
   "execution_count": null,
   "metadata": {},
   "outputs": [],
   "source": [
    "import numpy\n",
    "pca = PCA()\n",
    "pca1 = pca.fit_transform(x)\n",
    "principal = pandas.DataFrame(data=pca1)\n",
    "final = pandas.concat([principal, data.iloc[:, 12:]], axis = 1)\n",
    "numpy.cumsum(pca.explained_variance_ratio_)"
   ]
  },
  {
   "cell_type": "code",
   "execution_count": null,
   "metadata": {},
   "outputs": [],
   "source": [
    "fig = plt.figure(figsize = (8,8))\n",
    "ax = fig.add_subplot(1,1,1) \n",
    "ax.set_xlabel('Principal Component 1', fontsize = 15)\n",
    "ax.set_ylabel('Principal Component 2', fontsize = 15)\n",
    "ax.set_title('2 Component PCA', fontsize = 20)\n",
    "for album, color, marker in zip(albumnames,colors,markers):\n",
    "    indicesToKeep = final['album'] == album\n",
    "    ax.scatter(final.loc[indicesToKeep, 0]\n",
    "               , final.loc[indicesToKeep, 1]\n",
    "               , c = color\n",
    "               , marker = marker\n",
    "               , s = 10)\n",
    "ax.legend(albumnames)\n",
    "ax.grid()"
   ]
  },
  {
   "cell_type": "code",
   "execution_count": null,
   "metadata": {},
   "outputs": [],
   "source": [
    "kmeans = KMeans(n_clusters=70)\n",
    "labels = kmeans.fit_predict(x)\n",
    "# pandas.options.display.max_rows = 999\n",
    "# pandas.options.display.max_columns = 999\n",
    "# pandas.crosstab(labels, final['album'])"
   ]
  },
  {
   "cell_type": "code",
   "execution_count": null,
   "metadata": {},
   "outputs": [],
   "source": [
    "soundtable = pandas.crosstab(final['track'], labels, normalize='index').reset_index()\n",
    "sounddata = pandas.DataFrame()\n",
    "for i in albums:\n",
    "    sounddata = sounddata.append(i, ignore_index=True)\n",
    "sounddata = sounddata.merge(soundtable)"
   ]
  },
  {
   "cell_type": "code",
   "execution_count": null,
   "metadata": {},
   "outputs": [],
   "source": [
    "y = sounddata.iloc[:, 4:].values\n",
    "y = StandardScaler().fit_transform(y)"
   ]
  },
  {
   "cell_type": "code",
   "execution_count": null,
   "metadata": {},
   "outputs": [],
   "source": [
    "pca2 = PCA()\n",
    "pca3 = pca2.fit_transform(y)\n",
    "principal2 = pandas.DataFrame(data=pca3)\n",
    "final2 = pandas.concat([principal2, sounddata.iloc[:, 0:4]], axis = 1)\n",
    "numpy.cumsum(pca2.explained_variance_ratio_)"
   ]
  },
  {
   "cell_type": "code",
   "execution_count": null,
   "metadata": {},
   "outputs": [],
   "source": [
    "fig = plt.figure(figsize = (8,8))\n",
    "ax = fig.add_subplot(1,1,1) \n",
    "ax.set_xlabel('Principal Component 1', fontsize = 15)\n",
    "ax.set_ylabel('Principal Component 2', fontsize = 15)\n",
    "ax.set_title('First 2 Principal Components', fontsize = 20)\n",
    "for album, color, marker in zip(albumnames,colors,markers):\n",
    "    indicesToKeep = final2['album'] == album\n",
    "    ax.scatter(final2.loc[indicesToKeep, 0]\n",
    "               , final2.loc[indicesToKeep, 1]\n",
    "               , c = color\n",
    "               , marker = marker\n",
    "               , s = 40)\n",
    "ax.legend(albumnames)\n",
    "ax.grid()"
   ]
  },
  {
   "cell_type": "code",
   "execution_count": null,
   "metadata": {},
   "outputs": [],
   "source": [
    "kmeans2 = KMeans(n_clusters=5)\n",
    "labels2 = kmeans2.fit_predict(y)\n",
    "pandas.crosstab(labels2, final2['album'])"
   ]
  },
  {
   "cell_type": "code",
   "execution_count": null,
   "metadata": {},
   "outputs": [],
   "source": [
    "fig = plt.figure()\n",
    "plt.scatter(principal2.iloc[:, 0], principal2.iloc[:, 1], c=labels2)\n",
    "plt.show()"
   ]
  },
  {
   "cell_type": "code",
   "execution_count": null,
   "metadata": {},
   "outputs": [],
   "source": [
    "yy = sounddata.iloc[:, 4:].values\n",
    "fig = plt.figure(figsize = (8,8))\n",
    "plt.scatter(final2['album'], yy[:, 0], c=labels2)\n",
    "plt.show()"
   ]
  },
  {
   "cell_type": "code",
   "execution_count": null,
   "metadata": {},
   "outputs": [],
   "source": [
    "final2[(final2['playlist'] == 'Pop Punk\\'s Not Dead') & (pandas.Series(labels2) == 1)][['track', 'artist']]"
   ]
  },
  {
   "cell_type": "code",
   "execution_count": null,
   "metadata": {},
   "outputs": [],
   "source": [
    "final2[(final2['playlist'] == 'Punk Unplugged') & (pandas.Series(labels2) == 0)][['track', 'artist']]"
   ]
  },
  {
   "cell_type": "code",
   "execution_count": null,
   "metadata": {},
   "outputs": [],
   "source": [
    "final2[(final2['artist'] == 'Simple Creatures') | (final2['artist'] == 'The Story So Far') |\n",
    "       (final2['artist'] == 'Real Friends')][['playlist', 'artist', 'track']]"
   ]
  },
  {
   "cell_type": "code",
   "execution_count": null,
   "metadata": {},
   "outputs": [],
   "source": [
    "final2[(final2['playlist'] == 'Pop Punk\\'s Not Dead') & (pandas.Series(labels2) == 1)][['track', 'artist']]"
   ]
  },
  {
   "cell_type": "code",
   "execution_count": null,
   "metadata": {},
   "outputs": [],
   "source": [
    "final2[(final2['playlist'] == 'Hot Country') & (pandas.Series(labels2) == 0)][['track', 'artist']]"
   ]
  }
 ],
 "metadata": {
  "kernelspec": {
   "display_name": "Python 3",
   "language": "python",
   "name": "python3"
  },
  "language_info": {
   "codemirror_mode": {
    "name": "ipython",
    "version": 3
   },
   "file_extension": ".py",
   "mimetype": "text/x-python",
   "name": "python",
   "nbconvert_exporter": "python",
   "pygments_lexer": "ipython3",
   "version": "3.7.2"
  }
 },
 "nbformat": 4,
 "nbformat_minor": 2
}
