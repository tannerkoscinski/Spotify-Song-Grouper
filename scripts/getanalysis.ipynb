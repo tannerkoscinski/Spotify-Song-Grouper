{
 "cells": [
  {
   "cell_type": "markdown",
   "metadata": {},
   "source": [
    "# Spotify Song Grouper: Get Audio Analysis\n",
    "\n",
    "To be able to group the songs in a playlist, the audio analysis for each track must first be downloaded. Getting the audio analysis requires the authorization of a Spotify account. This method does not work well within Docker, so you must first authorize your account and download the audio analyses here. An alternative option is to run the grouper.py file in Terminal, which will request your authorization the first time and then work similarly to Docker except it won't require the audio analyses to be downloaded as a separate step.\n",
    "\n",
    "When you running the following import statement for the first time, you will be prompted to authorize your Spotify account. Follow the directions and copy the full URL after you are redirected to Google and paste it in the box in this notebook."
   ]
  },
  {
   "cell_type": "code",
   "execution_count": 1,
   "metadata": {},
   "outputs": [],
   "source": [
    "from functions import searchplaylist, getplaylist2, getanalysis"
   ]
  },
  {
   "cell_type": "markdown",
   "metadata": {},
   "source": [
    "You can search for a playlist by name by running the `searchplaylist` function as shown below."
   ]
  },
  {
   "cell_type": "code",
   "execution_count": 2,
   "metadata": {},
   "outputs": [
    {
     "name": "stdout",
     "output_type": "stream",
     "text": [
      "37i9dQZF1DWXRqgorJj26U Rock Classics by spotify\n",
      "37i9dQZF1DX6xOPeSOGone Soft Rock by spotify\n",
      "37i9dQZF1DX8FwnYE6PRvL Rock Party by spotify\n",
      "37i9dQZF1DXcF6B6QPhFDv Rock This by spotify\n",
      "37i9dQZF1DXb3m918yXHxA Yacht Rock by spotify\n"
     ]
    }
   ],
   "source": [
    "searchplaylist('rock')"
   ]
  },
  {
   "cell_type": "markdown",
   "metadata": {},
   "source": [
    "Then use the `getplaylist2` function to get the playlist tracks. The first argument of the `getplaylist2` function is the playlist's owner's ID, which is 'spotify' in this case. The second argument is the playlist ID."
   ]
  },
  {
   "cell_type": "code",
   "execution_count": 3,
   "metadata": {},
   "outputs": [],
   "source": [
    "getplaylist2('spotify', '37i9dQZF1DXcF6B6QPhFDv')"
   ]
  },
  {
   "cell_type": "markdown",
   "metadata": {},
   "source": [
    "Finally, use the `getanalysis` function to get the audio analysis of each track in the playlist. The only argument is the playlist ID. The could take a minute or so depending on the size of the playlist."
   ]
  },
  {
   "cell_type": "code",
   "execution_count": 4,
   "metadata": {},
   "outputs": [],
   "source": [
    "getanalysis('37i9dQZF1DXcF6B6QPhFDv')"
   ]
  },
  {
   "cell_type": "markdown",
   "metadata": {},
   "source": [
    "Now you're ready to group the songs in your playlist. (Keep track of your playlist ID.)"
   ]
  }
 ],
 "metadata": {
  "kernelspec": {
   "display_name": "Python 3",
   "language": "python",
   "name": "python3"
  },
  "language_info": {
   "codemirror_mode": {
    "name": "ipython",
    "version": 3
   },
   "file_extension": ".py",
   "mimetype": "text/x-python",
   "name": "python",
   "nbconvert_exporter": "python",
   "pygments_lexer": "ipython3",
   "version": "3.7.2"
  }
 },
 "nbformat": 4,
 "nbformat_minor": 2
}
